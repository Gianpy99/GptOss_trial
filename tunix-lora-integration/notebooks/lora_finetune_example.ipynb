{
 "cells": [
  {
   "cell_type": "markdown",
   "metadata": {},
   "source": [
    "# Fine-Tuning with LoRA Example\n",
    "\n",
    "This notebook demonstrates how to fine-tune a model using Low-Rank Adaptation (LoRA). We will go through the steps of loading the dataset, configuring the model, and executing the training process."
   ]
  },
  {
   "cell_type": "code",
   "execution_count": 1,
   "metadata": {},
   "outputs": [],
   "source": [
    "# Import necessary libraries\n",
    "import os\n",
    "import yaml\n",
    "from src.data.dataset import CustomDataset\n",
    "from src.lora.training import train_model\n",
    "from src.models.model import MyModel\n",
    "\n",
    "# Load configuration files\n",
    "with open('configs/lora.yaml', 'r') as file:\n",
    "    lora_config = yaml.safe_load(file)\n",
    "\n",
    "with open('configs/training.yaml', 'r') as file:\n",
    "    training_config = yaml.safe_load(file)\n",
    "\n",
    "with open('configs/dataset.yaml', 'r') as file:\n",
    "    dataset_config = yaml.safe_load(file)"
   ]
  },
  {
   "cell_type": "code",
   "execution_count": 2,
   "metadata": {},
   "outputs": [],
   "source": [
    "# Prepare the dataset\n",
    "train_dataset = CustomDataset(dataset_config['train_data_path'])\n",
    "val_dataset = CustomDataset(dataset_config['val_data_path'])"
   ]
  },
  {
   "cell_type": "code",
   "execution_count": 3,
   "metadata": {},
   "outputs": [],
   "source": [
    "# Initialize the model\n",
    "model = MyModel(lora_config)\n",
    "\n",
    "# Start training\n",
    "train_model(model, train_dataset, val_dataset, training_config)"
   ]
  },
  {
   "cell_type": "markdown",
   "metadata": {},
   "source": [
    "## Conclusion\n",
    "\n",
    "In this notebook, we have set up a basic workflow for fine-tuning a model using LoRA. You can modify the configurations in the YAML files to experiment with different training parameters and datasets."
   ]
  }
 ],
 "metadata": {
  "kernelspec": {
   "display_name": "Python 3",
   "language": "python",
   "name": "python3"
  },
  "language_info": {
   "codemirror_mode": {
    "name": "ipython",
    "version": 3
   },
   "file_extension": ".py",
   "mimetype": "text/x-python",
   "name": "python",
   "nbconvert_exporter": "python",
   "pygments_lexer": "ipython3",
   "version": "3.8.5"
  }
 },
 "nbformat": 4,
 "nbformat_minor": 4
}